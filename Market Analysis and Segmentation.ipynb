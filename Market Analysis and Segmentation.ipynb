{
 "cells": [
  {
   "cell_type": "markdown",
   "id": "8fdb5060",
   "metadata": {},
   "source": [
    "# "
   ]
  },
  {
   "cell_type": "markdown",
   "id": "ae6b09ca",
   "metadata": {},
   "source": [
    "## <div align=\"center\">Analysis and Segmentation of Albotherm’s Market Potential in Commercial Buildings</div>"
   ]
  },
  {
   "cell_type": "markdown",
   "id": "bcd7e554",
   "metadata": {},
   "source": [
    "## Introduction\n",
    "Albotherm is innovating the way commercial buildings manage temperature with its smart glass coating technology. This technology transitions from transparent to white as temperatures rise, reducing the need for electrical cooling.\n",
    "\n",
    "\n",
    "-   This analysis will explore the market potential for Albotherm within the multiple sector, focusing on energy savings,     \n",
    "    sustainability benefits, and the broader impact on reducing carbon emissions."
   ]
  },
  {
   "cell_type": "code",
   "execution_count": null,
   "id": "45f58dbf",
   "metadata": {},
   "outputs": [],
   "source": []
  },
  {
   "cell_type": "markdown",
   "id": "84b93e37",
   "metadata": {},
   "source": [
    "## Importing Required Libraries"
   ]
  },
  {
   "cell_type": "code",
   "execution_count": 1,
   "id": "5dad4a92",
   "metadata": {},
   "outputs": [],
   "source": [
    "import pandas as pd\n",
    "import numpy as np\n",
    "import matplotlib.pyplot as plt\n",
    "import seaborn as sns\n",
    "import warnings\n",
    "warnings.filterwarnings('ignore')"
   ]
  },
  {
   "cell_type": "code",
   "execution_count": 14,
   "id": "ba96ef34",
   "metadata": {},
   "outputs": [],
   "source": [
    "data=pd.read_csv('analysis.csv')"
   ]
  },
  {
   "cell_type": "code",
   "execution_count": 15,
   "id": "c89cd799",
   "metadata": {},
   "outputs": [
    {
     "data": {
      "text/html": [
       "<div>\n",
       "<style scoped>\n",
       "    .dataframe tbody tr th:only-of-type {\n",
       "        vertical-align: middle;\n",
       "    }\n",
       "\n",
       "    .dataframe tbody tr th {\n",
       "        vertical-align: top;\n",
       "    }\n",
       "\n",
       "    .dataframe thead th {\n",
       "        text-align: right;\n",
       "    }\n",
       "</style>\n",
       "<table border=\"1\" class=\"dataframe\">\n",
       "  <thead>\n",
       "    <tr style=\"text-align: right;\">\n",
       "      <th></th>\n",
       "      <th>COMPANY NAME</th>\n",
       "      <th>EST. YEAR</th>\n",
       "      <th>INDUSTRY</th>\n",
       "      <th>CORE SERVICES</th>\n",
       "      <th>LOCATION</th>\n",
       "      <th>MARKET PRESENCE</th>\n",
       "      <th>WEBSITE</th>\n",
       "      <th>INFRASTRUCTURE</th>\n",
       "      <th>RESIDENDIAL</th>\n",
       "      <th>AUTOMOTIVE</th>\n",
       "      <th>EDU/Cultural</th>\n",
       "      <th>COMMERCIAL</th>\n",
       "      <th>CATEGORY</th>\n",
       "      <th>PARTNERSHIPS</th>\n",
       "    </tr>\n",
       "  </thead>\n",
       "  <tbody>\n",
       "    <tr>\n",
       "      <th>0</th>\n",
       "      <td>John Perkins Construction Ltd</td>\n",
       "      <td>1985</td>\n",
       "      <td>Construction</td>\n",
       "      <td>General</td>\n",
       "      <td>UK</td>\n",
       "      <td>Regional</td>\n",
       "      <td>https://www.johnperkins.co.uk/</td>\n",
       "      <td>0</td>\n",
       "      <td>1</td>\n",
       "      <td>0</td>\n",
       "      <td>0</td>\n",
       "      <td>1</td>\n",
       "      <td>Builder</td>\n",
       "      <td>Construction &amp; Infrastructure</td>\n",
       "    </tr>\n",
       "    <tr>\n",
       "      <th>1</th>\n",
       "      <td>VINCI Construction UK Limited</td>\n",
       "      <td>1920</td>\n",
       "      <td>Construction</td>\n",
       "      <td>Buildings</td>\n",
       "      <td>UK</td>\n",
       "      <td>International</td>\n",
       "      <td>https://uk.vinci-construction.com/</td>\n",
       "      <td>1</td>\n",
       "      <td>0</td>\n",
       "      <td>0</td>\n",
       "      <td>0</td>\n",
       "      <td>1</td>\n",
       "      <td>Builder</td>\n",
       "      <td>Construction &amp; Infrastructure</td>\n",
       "    </tr>\n",
       "    <tr>\n",
       "      <th>2</th>\n",
       "      <td>Southwest Contractors Ltd</td>\n",
       "      <td>1995</td>\n",
       "      <td>Construction</td>\n",
       "      <td>Residential</td>\n",
       "      <td>UK</td>\n",
       "      <td>Local</td>\n",
       "      <td>https://www.swcontractorsbristol.co.uk/</td>\n",
       "      <td>0</td>\n",
       "      <td>1</td>\n",
       "      <td>0</td>\n",
       "      <td>0</td>\n",
       "      <td>0</td>\n",
       "      <td>Builder</td>\n",
       "      <td>Construction &amp; Infrastructure</td>\n",
       "    </tr>\n",
       "    <tr>\n",
       "      <th>3</th>\n",
       "      <td>Oakland Construction</td>\n",
       "      <td>1980</td>\n",
       "      <td>Construction</td>\n",
       "      <td>Commercial</td>\n",
       "      <td>UK</td>\n",
       "      <td>Regional</td>\n",
       "      <td>https://www.oaklandconstruction.co.uk/</td>\n",
       "      <td>0</td>\n",
       "      <td>0</td>\n",
       "      <td>0</td>\n",
       "      <td>0</td>\n",
       "      <td>1</td>\n",
       "      <td>Builder</td>\n",
       "      <td>Construction &amp; Infrastructure</td>\n",
       "    </tr>\n",
       "    <tr>\n",
       "      <th>4</th>\n",
       "      <td>HG construction</td>\n",
       "      <td>1990</td>\n",
       "      <td>Construction</td>\n",
       "      <td>High-end</td>\n",
       "      <td>UK</td>\n",
       "      <td>National</td>\n",
       "      <td>https://www.hgconstruction.co.uk/</td>\n",
       "      <td>0</td>\n",
       "      <td>1</td>\n",
       "      <td>0</td>\n",
       "      <td>0</td>\n",
       "      <td>1</td>\n",
       "      <td>Builder</td>\n",
       "      <td>Construction &amp; Infrastructure</td>\n",
       "    </tr>\n",
       "  </tbody>\n",
       "</table>\n",
       "</div>"
      ],
      "text/plain": [
       "                    COMPANY NAME  EST. YEAR      INDUSTRY CORE SERVICES  \\\n",
       "0  John Perkins Construction Ltd       1985  Construction       General   \n",
       "1  VINCI Construction UK Limited       1920  Construction     Buildings   \n",
       "2      Southwest Contractors Ltd       1995  Construction   Residential   \n",
       "3           Oakland Construction       1980  Construction    Commercial   \n",
       "4               HG construction        1990  Construction      High-end   \n",
       "\n",
       "  LOCATION MARKET PRESENCE                                   WEBSITE  \\\n",
       "0       UK        Regional            https://www.johnperkins.co.uk/   \n",
       "1       UK   International      https://uk.vinci-construction.com/     \n",
       "2       UK           Local  https://www.swcontractorsbristol.co.uk/    \n",
       "3       UK        Regional  https://www.oaklandconstruction.co.uk/     \n",
       "4       UK        National         https://www.hgconstruction.co.uk/   \n",
       "\n",
       "   INFRASTRUCTURE  RESIDENDIAL  AUTOMOTIVE  EDU/Cultural  COMMERCIAL CATEGORY  \\\n",
       "0               0            1           0             0           1  Builder   \n",
       "1               1            0           0             0           1  Builder   \n",
       "2               0            1           0             0           0  Builder   \n",
       "3               0            0           0             0           1  Builder   \n",
       "4               0            1           0             0           1  Builder   \n",
       "\n",
       "                    PARTNERSHIPS  \n",
       "0  Construction & Infrastructure  \n",
       "1  Construction & Infrastructure  \n",
       "2  Construction & Infrastructure  \n",
       "3  Construction & Infrastructure  \n",
       "4  Construction & Infrastructure  "
      ]
     },
     "execution_count": 15,
     "metadata": {},
     "output_type": "execute_result"
    }
   ],
   "source": [
    "data.head()"
   ]
  },
  {
   "cell_type": "code",
   "execution_count": 16,
   "id": "dabc5865",
   "metadata": {},
   "outputs": [
    {
     "data": {
      "text/plain": [
       "(32, 14)"
      ]
     },
     "execution_count": 16,
     "metadata": {},
     "output_type": "execute_result"
    }
   ],
   "source": [
    "data.shape"
   ]
  },
  {
   "cell_type": "code",
   "execution_count": 17,
   "id": "93977cc9",
   "metadata": {},
   "outputs": [
    {
     "data": {
      "text/plain": [
       "COMPANY NAME       0\n",
       "EST. YEAR          0\n",
       "INDUSTRY           0\n",
       "CORE SERVICES      0\n",
       "LOCATION           0\n",
       "MARKET PRESENCE    0\n",
       "WEBSITE            0\n",
       "INFRASTRUCTURE     0\n",
       "RESIDENDIAL        0\n",
       "AUTOMOTIVE         0\n",
       "EDU/Cultural       0\n",
       "COMMERCIAL         0\n",
       "CATEGORY           0\n",
       "PARTNERSHIPS       0\n",
       "dtype: int64"
      ]
     },
     "execution_count": 17,
     "metadata": {},
     "output_type": "execute_result"
    }
   ],
   "source": [
    "data.isnull().sum()"
   ]
  },
  {
   "cell_type": "code",
   "execution_count": 18,
   "id": "d0b2b308",
   "metadata": {},
   "outputs": [
    {
     "data": {
      "text/plain": [
       "COMPANY NAME       object\n",
       "EST. YEAR           int64\n",
       "INDUSTRY           object\n",
       "CORE SERVICES      object\n",
       "LOCATION           object\n",
       "MARKET PRESENCE    object\n",
       "WEBSITE            object\n",
       "INFRASTRUCTURE      int64\n",
       "RESIDENDIAL         int64\n",
       "AUTOMOTIVE          int64\n",
       "EDU/Cultural        int64\n",
       "COMMERCIAL          int64\n",
       "CATEGORY           object\n",
       "PARTNERSHIPS       object\n",
       "dtype: object"
      ]
     },
     "execution_count": 18,
     "metadata": {},
     "output_type": "execute_result"
    }
   ],
   "source": [
    "data.dtypes"
   ]
  },
  {
   "cell_type": "code",
   "execution_count": 19,
   "id": "1c0388f2",
   "metadata": {},
   "outputs": [],
   "source": [
    "data = data.drop('WEBSITE', axis=1)"
   ]
  },
  {
   "cell_type": "code",
   "execution_count": 20,
   "id": "2de71bc7",
   "metadata": {},
   "outputs": [
    {
     "data": {
      "text/html": [
       "<div>\n",
       "<style scoped>\n",
       "    .dataframe tbody tr th:only-of-type {\n",
       "        vertical-align: middle;\n",
       "    }\n",
       "\n",
       "    .dataframe tbody tr th {\n",
       "        vertical-align: top;\n",
       "    }\n",
       "\n",
       "    .dataframe thead th {\n",
       "        text-align: right;\n",
       "    }\n",
       "</style>\n",
       "<table border=\"1\" class=\"dataframe\">\n",
       "  <thead>\n",
       "    <tr style=\"text-align: right;\">\n",
       "      <th></th>\n",
       "      <th>COMPANY NAME</th>\n",
       "      <th>EST. YEAR</th>\n",
       "      <th>INDUSTRY</th>\n",
       "      <th>CORE SERVICES</th>\n",
       "      <th>LOCATION</th>\n",
       "      <th>MARKET PRESENCE</th>\n",
       "      <th>INFRASTRUCTURE</th>\n",
       "      <th>RESIDENDIAL</th>\n",
       "      <th>AUTOMOTIVE</th>\n",
       "      <th>EDU/Cultural</th>\n",
       "      <th>COMMERCIAL</th>\n",
       "      <th>CATEGORY</th>\n",
       "      <th>PARTNERSHIPS</th>\n",
       "    </tr>\n",
       "  </thead>\n",
       "  <tbody>\n",
       "    <tr>\n",
       "      <th>0</th>\n",
       "      <td>John Perkins Construction Ltd</td>\n",
       "      <td>1985</td>\n",
       "      <td>Construction</td>\n",
       "      <td>General</td>\n",
       "      <td>UK</td>\n",
       "      <td>Regional</td>\n",
       "      <td>0</td>\n",
       "      <td>1</td>\n",
       "      <td>0</td>\n",
       "      <td>0</td>\n",
       "      <td>1</td>\n",
       "      <td>Builder</td>\n",
       "      <td>Construction &amp; Infrastructure</td>\n",
       "    </tr>\n",
       "    <tr>\n",
       "      <th>1</th>\n",
       "      <td>VINCI Construction UK Limited</td>\n",
       "      <td>1920</td>\n",
       "      <td>Construction</td>\n",
       "      <td>Buildings</td>\n",
       "      <td>UK</td>\n",
       "      <td>International</td>\n",
       "      <td>1</td>\n",
       "      <td>0</td>\n",
       "      <td>0</td>\n",
       "      <td>0</td>\n",
       "      <td>1</td>\n",
       "      <td>Builder</td>\n",
       "      <td>Construction &amp; Infrastructure</td>\n",
       "    </tr>\n",
       "    <tr>\n",
       "      <th>2</th>\n",
       "      <td>Southwest Contractors Ltd</td>\n",
       "      <td>1995</td>\n",
       "      <td>Construction</td>\n",
       "      <td>Residential</td>\n",
       "      <td>UK</td>\n",
       "      <td>Local</td>\n",
       "      <td>0</td>\n",
       "      <td>1</td>\n",
       "      <td>0</td>\n",
       "      <td>0</td>\n",
       "      <td>0</td>\n",
       "      <td>Builder</td>\n",
       "      <td>Construction &amp; Infrastructure</td>\n",
       "    </tr>\n",
       "    <tr>\n",
       "      <th>3</th>\n",
       "      <td>Oakland Construction</td>\n",
       "      <td>1980</td>\n",
       "      <td>Construction</td>\n",
       "      <td>Commercial</td>\n",
       "      <td>UK</td>\n",
       "      <td>Regional</td>\n",
       "      <td>0</td>\n",
       "      <td>0</td>\n",
       "      <td>0</td>\n",
       "      <td>0</td>\n",
       "      <td>1</td>\n",
       "      <td>Builder</td>\n",
       "      <td>Construction &amp; Infrastructure</td>\n",
       "    </tr>\n",
       "    <tr>\n",
       "      <th>4</th>\n",
       "      <td>HG construction</td>\n",
       "      <td>1990</td>\n",
       "      <td>Construction</td>\n",
       "      <td>High-end</td>\n",
       "      <td>UK</td>\n",
       "      <td>National</td>\n",
       "      <td>0</td>\n",
       "      <td>1</td>\n",
       "      <td>0</td>\n",
       "      <td>0</td>\n",
       "      <td>1</td>\n",
       "      <td>Builder</td>\n",
       "      <td>Construction &amp; Infrastructure</td>\n",
       "    </tr>\n",
       "  </tbody>\n",
       "</table>\n",
       "</div>"
      ],
      "text/plain": [
       "                    COMPANY NAME  EST. YEAR      INDUSTRY CORE SERVICES  \\\n",
       "0  John Perkins Construction Ltd       1985  Construction       General   \n",
       "1  VINCI Construction UK Limited       1920  Construction     Buildings   \n",
       "2      Southwest Contractors Ltd       1995  Construction   Residential   \n",
       "3           Oakland Construction       1980  Construction    Commercial   \n",
       "4               HG construction        1990  Construction      High-end   \n",
       "\n",
       "  LOCATION MARKET PRESENCE  INFRASTRUCTURE  RESIDENDIAL  AUTOMOTIVE  \\\n",
       "0       UK        Regional               0            1           0   \n",
       "1       UK   International               1            0           0   \n",
       "2       UK           Local               0            1           0   \n",
       "3       UK        Regional               0            0           0   \n",
       "4       UK        National               0            1           0   \n",
       "\n",
       "   EDU/Cultural  COMMERCIAL CATEGORY                   PARTNERSHIPS  \n",
       "0             0           1  Builder  Construction & Infrastructure  \n",
       "1             0           1  Builder  Construction & Infrastructure  \n",
       "2             0           0  Builder  Construction & Infrastructure  \n",
       "3             0           1  Builder  Construction & Infrastructure  \n",
       "4             0           1  Builder  Construction & Infrastructure  "
      ]
     },
     "execution_count": 20,
     "metadata": {},
     "output_type": "execute_result"
    }
   ],
   "source": [
    "data.head()"
   ]
  },
  {
   "cell_type": "code",
   "execution_count": 23,
   "id": "e0580a1c",
   "metadata": {},
   "outputs": [
    {
     "name": "stdout",
     "output_type": "stream",
     "text": [
      "         EST. YEAR  INFRASTRUCTURE  RESIDENDIAL  AUTOMOTIVE  EDU/Cultural  \\\n",
      "count    32.000000       32.000000    32.000000   32.000000     32.000000   \n",
      "mean   1961.125000        0.218750     0.500000    0.218750      0.156250   \n",
      "std      72.024078        0.420013     0.508001    0.420013      0.368902   \n",
      "min    1665.000000        0.000000     0.000000    0.000000      0.000000   \n",
      "25%    1952.000000        0.000000     0.000000    0.000000      0.000000   \n",
      "50%    1988.500000        0.000000     0.500000    0.000000      0.000000   \n",
      "75%    2000.000000        0.000000     1.000000    0.000000      0.000000   \n",
      "max    2015.000000        1.000000     1.000000    1.000000      1.000000   \n",
      "\n",
      "       COMMERCIAL  \n",
      "count   32.000000  \n",
      "mean     0.781250  \n",
      "std      0.420013  \n",
      "min      0.000000  \n",
      "25%      1.000000  \n",
      "50%      1.000000  \n",
      "75%      1.000000  \n",
      "max      1.000000  \n"
     ]
    }
   ],
   "source": [
    "print(data.describe())"
   ]
  },
  {
   "cell_type": "code",
   "execution_count": 25,
   "id": "d1629097",
   "metadata": {},
   "outputs": [
    {
     "name": "stdout",
     "output_type": "stream",
     "text": [
      "MARKET PRESENCE\n",
      "National         17\n",
      "International    12\n",
      "Regional          2\n",
      "Local             1\n",
      "Name: count, dtype: int64\n"
     ]
    }
   ],
   "source": [
    "print(data['MARKET PRESENCE'].value_counts()) ## TOTAL COUNT"
   ]
  },
  {
   "cell_type": "code",
   "execution_count": 26,
   "id": "e6749052",
   "metadata": {},
   "outputs": [
    {
     "name": "stdout",
     "output_type": "stream",
     "text": [
      "INFRASTRUCTURE     7\n",
      "RESIDENDIAL       16\n",
      "EDU/Cultural       5\n",
      "COMMERCIAL        25\n",
      "dtype: int64\n"
     ]
    }
   ],
   "source": [
    "print(data[['INFRASTRUCTURE', 'RESIDENDIAL', 'EDU/Cultural','COMMERCIAL']].sum())"
   ]
  },
  {
   "cell_type": "code",
   "execution_count": null,
   "id": "dea58438",
   "metadata": {},
   "outputs": [],
   "source": []
  },
  {
   "cell_type": "code",
   "execution_count": null,
   "id": "6cd37c32",
   "metadata": {},
   "outputs": [],
   "source": []
  },
  {
   "cell_type": "code",
   "execution_count": null,
   "id": "94c4a1e8",
   "metadata": {},
   "outputs": [],
   "source": []
  },
  {
   "cell_type": "code",
   "execution_count": null,
   "id": "3f1b707b",
   "metadata": {},
   "outputs": [],
   "source": []
  },
  {
   "cell_type": "markdown",
   "id": "ad5e9009",
   "metadata": {},
   "source": [
    "# Step 1: Understanding the Dataset\n",
    "Based on the dataset you provided earlier, you have a list of companies with attributes such as company name, establishment year, industry, core services, location, market presence, website, and their involvement in infrastructure, residential, and automotive sectors.\n",
    "\n",
    "Step 2: Data Cleaning and Preparation\n",
    "Before diving into analysis, ensure your dataset is clean and prepared:\n",
    "\n",
    "Remove Unfilled Columns: As discussed, delete any columns filled with NaN or that don't provide relevant information for the analysis.\n",
    "Standardize Values: Ensure all data is in a consistent format, e.g., all entries in the \"Market Presence\" column should follow a standard set of terms (local, regional, international).\n",
    "Step 3: Market Segmentation\n",
    "Divide the companies into relevant market segments. For Albotherm, potential segments to consider based on the dataset and their product offerings could include:\n",
    "\n",
    "Industry Sector: Construction, automotive, etc.\n",
    "Market Presence: Local, regional, international.\n",
    "Application Areas: Infrastructure, residential. Although Albotherm might not directly target automotive, understanding which companies are involved in related sectors could uncover partnership opportunities.\n",
    "Step 4: Analyzing the Dataset for Insights\n",
    "With the market segments defined, analyze each segment to uncover insights that could inform Albotherm’s marketing strategies.\n",
    "\n",
    "Industry Sector Analysis\n",
    "Construction: Identify trends in the construction sector that align with sustainability and energy efficiency. How can Albotherm position its product as a solution for these trends?\n",
    "Market Presence Analysis\n",
    "Local and Regional Companies: These might be more accessible for initial partnerships or pilot projects. What local or regional needs can Albotherm meet?\n",
    "International Companies: Large, international companies could provide broader market access but might require more substantial evidence of Albotherm’s value proposition. How can Albotherm demonstrate its global appeal and scalability?\n",
    "Application Area Analysis\n",
    "Infrastructure and Residential: Given Albotherm’s focus on buildings, which companies are involved in projects where Albotherm’s technology could significantly impact energy efficiency and sustainability?\n",
    "Step 5: Generating Actionable Insights\n",
    "From your analysis, derive actionable insights such as:\n",
    "\n",
    "Key Partnerships: Identify companies within your segments that are best positioned to benefit from Albotherm’s technology. For instance, construction companies working on green buildings or sustainable projects.\n",
    "Market Needs: Highlight specific needs or trends in the construction industry that Albotherm can address, like the demand for green certifications or reducing operational carbon emissions.\n",
    "Product Differentiation: Based on the competitive landscape, how can Albotherm differentiate its offerings? Are there specific features or benefits that are underrepresented in the market?\n",
    "Step 6: Reporting and Strategy Development\n",
    "Compile your findings into a report or presentation that outlines:\n",
    "\n",
    "Segmentation Overview: Briefly describe the market segments identified.\n",
    "Insights per Segment: Present key insights from each segment, including potential market needs and opportunities.\n",
    "Recommendations: Based on your analysis, recommend specific strategies for targeting each segment, potential partnerships, and any product or messaging adjustments.\n",
    "Your analysis should ultimately guide Albotherm in tailoring its marketing strategy to target the most promising segments effectively, leveraging its unique value proposition to meet market needs and capitalize on emerging opportunities in the construction and infrastructure sectors."
   ]
  },
  {
   "cell_type": "code",
   "execution_count": null,
   "id": "b576af6f",
   "metadata": {},
   "outputs": [],
   "source": []
  }
 ],
 "metadata": {
  "kernelspec": {
   "display_name": "Python 3 (ipykernel)",
   "language": "python",
   "name": "python3"
  },
  "language_info": {
   "codemirror_mode": {
    "name": "ipython",
    "version": 3
   },
   "file_extension": ".py",
   "mimetype": "text/x-python",
   "name": "python",
   "nbconvert_exporter": "python",
   "pygments_lexer": "ipython3",
   "version": "3.11.5"
  }
 },
 "nbformat": 4,
 "nbformat_minor": 5
}
