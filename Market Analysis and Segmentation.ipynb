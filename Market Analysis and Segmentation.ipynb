{
 "cells": [
  {
   "cell_type": "markdown",
   "id": "8fdb5060",
   "metadata": {},
   "source": [
    "# "
   ]
  },
  {
   "cell_type": "markdown",
   "id": "ae6b09ca",
   "metadata": {},
   "source": [
    "## <div align=\"center\">Analysis and Segmentation of Albotherm’s Market Potential in Commercial Buildings</div>"
   ]
  },
  {
   "cell_type": "markdown",
   "id": "bcd7e554",
   "metadata": {},
   "source": [
    "## Introduction\n",
    "Albotherm is innovating the way commercial buildings manage temperature with its smart glass coating technology. This technology transitions from transparent to white as temperatures rise, reducing the need for electrical cooling.\n",
    "\n",
    "\n",
    "-   This analysis will explore the market potential for Albotherm within the multiple sector, focusing on energy savings,     \n",
    "    sustainability benefits, and the broader impact on reducing carbon emissions."
   ]
  },
  {
   "cell_type": "code",
   "execution_count": null,
   "id": "45f58dbf",
   "metadata": {},
   "outputs": [],
   "source": []
  },
  {
   "cell_type": "markdown",
   "id": "84b93e37",
   "metadata": {},
   "source": [
    "## Importing Required Libraries"
   ]
  },
  {
   "cell_type": "code",
   "execution_count": 1,
   "id": "5dad4a92",
   "metadata": {},
   "outputs": [],
   "source": [
    "import pandas as pd\n",
    "import numpy as np\n",
    "import matplotlib.pyplot as plt\n",
    "import seaborn as sns\n",
    "import warnings\n",
    "warnings.filterwarnings('ignore')"
   ]
  },
  {
   "cell_type": "markdown",
   "id": "42982d70",
   "metadata": {},
   "source": [
    "## Understanding Data "
   ]
  },
  {
   "cell_type": "code",
   "execution_count": 2,
   "id": "ba96ef34",
   "metadata": {},
   "outputs": [],
   "source": [
    "data=pd.read_csv('analysis.csv')"
   ]
  },
  {
   "cell_type": "code",
   "execution_count": 3,
   "id": "c89cd799",
   "metadata": {},
   "outputs": [
    {
     "data": {
      "text/html": [
       "<div>\n",
       "<style scoped>\n",
       "    .dataframe tbody tr th:only-of-type {\n",
       "        vertical-align: middle;\n",
       "    }\n",
       "\n",
       "    .dataframe tbody tr th {\n",
       "        vertical-align: top;\n",
       "    }\n",
       "\n",
       "    .dataframe thead th {\n",
       "        text-align: right;\n",
       "    }\n",
       "</style>\n",
       "<table border=\"1\" class=\"dataframe\">\n",
       "  <thead>\n",
       "    <tr style=\"text-align: right;\">\n",
       "      <th></th>\n",
       "      <th>COMPANY NAME</th>\n",
       "      <th>EST. YEAR</th>\n",
       "      <th>INDUSTRY</th>\n",
       "      <th>CORE SERVICES</th>\n",
       "      <th>LOCATION</th>\n",
       "      <th>MARKET PRESENCE</th>\n",
       "      <th>WEBSITE</th>\n",
       "      <th>INFRASTRUCTURE</th>\n",
       "      <th>RESIDENDIAL</th>\n",
       "      <th>AUTOMOTIVE</th>\n",
       "      <th>EDU/Cultural</th>\n",
       "      <th>COMMERCIAL</th>\n",
       "      <th>CATEGORY</th>\n",
       "      <th>PARTNERSHIPS</th>\n",
       "      <th>SEGMENT</th>\n",
       "    </tr>\n",
       "  </thead>\n",
       "  <tbody>\n",
       "    <tr>\n",
       "      <th>0</th>\n",
       "      <td>John Perkins Construction Ltd</td>\n",
       "      <td>1985</td>\n",
       "      <td>Construction</td>\n",
       "      <td>General</td>\n",
       "      <td>UK</td>\n",
       "      <td>Regional</td>\n",
       "      <td>https://www.johnperkins.co.uk/</td>\n",
       "      <td>0</td>\n",
       "      <td>1</td>\n",
       "      <td>0</td>\n",
       "      <td>0</td>\n",
       "      <td>1</td>\n",
       "      <td>Builder</td>\n",
       "      <td>Construction &amp; Infrastructure</td>\n",
       "      <td>Office Windows</td>\n",
       "    </tr>\n",
       "    <tr>\n",
       "      <th>1</th>\n",
       "      <td>VINCI Construction UK Limited</td>\n",
       "      <td>1920</td>\n",
       "      <td>Construction</td>\n",
       "      <td>Buildings</td>\n",
       "      <td>UK</td>\n",
       "      <td>International</td>\n",
       "      <td>https://uk.vinci-construction.com/</td>\n",
       "      <td>1</td>\n",
       "      <td>0</td>\n",
       "      <td>0</td>\n",
       "      <td>0</td>\n",
       "      <td>1</td>\n",
       "      <td>Builder</td>\n",
       "      <td>Construction &amp; Infrastructure</td>\n",
       "      <td>Glass Facades</td>\n",
       "    </tr>\n",
       "    <tr>\n",
       "      <th>2</th>\n",
       "      <td>Southwest Contractors Ltd</td>\n",
       "      <td>1995</td>\n",
       "      <td>Construction</td>\n",
       "      <td>Residential</td>\n",
       "      <td>UK</td>\n",
       "      <td>Local</td>\n",
       "      <td>https://www.swcontractorsbristol.co.uk/</td>\n",
       "      <td>0</td>\n",
       "      <td>1</td>\n",
       "      <td>0</td>\n",
       "      <td>0</td>\n",
       "      <td>0</td>\n",
       "      <td>Builder</td>\n",
       "      <td>Construction &amp; Infrastructure</td>\n",
       "      <td>Office Windows</td>\n",
       "    </tr>\n",
       "    <tr>\n",
       "      <th>3</th>\n",
       "      <td>Oakland Construction</td>\n",
       "      <td>1980</td>\n",
       "      <td>Construction</td>\n",
       "      <td>Commercial</td>\n",
       "      <td>UK</td>\n",
       "      <td>Regional</td>\n",
       "      <td>https://www.oaklandconstruction.co.uk/</td>\n",
       "      <td>0</td>\n",
       "      <td>0</td>\n",
       "      <td>0</td>\n",
       "      <td>0</td>\n",
       "      <td>1</td>\n",
       "      <td>Builder</td>\n",
       "      <td>Construction &amp; Infrastructure</td>\n",
       "      <td>Glass Facades</td>\n",
       "    </tr>\n",
       "    <tr>\n",
       "      <th>4</th>\n",
       "      <td>HG construction</td>\n",
       "      <td>1990</td>\n",
       "      <td>Construction</td>\n",
       "      <td>High-end</td>\n",
       "      <td>UK</td>\n",
       "      <td>National</td>\n",
       "      <td>https://www.hgconstruction.co.uk/</td>\n",
       "      <td>0</td>\n",
       "      <td>1</td>\n",
       "      <td>0</td>\n",
       "      <td>0</td>\n",
       "      <td>1</td>\n",
       "      <td>Builder</td>\n",
       "      <td>Construction &amp; Infrastructure</td>\n",
       "      <td>Office Windows</td>\n",
       "    </tr>\n",
       "  </tbody>\n",
       "</table>\n",
       "</div>"
      ],
      "text/plain": [
       "                    COMPANY NAME  EST. YEAR      INDUSTRY CORE SERVICES  \\\n",
       "0  John Perkins Construction Ltd       1985  Construction       General   \n",
       "1  VINCI Construction UK Limited       1920  Construction     Buildings   \n",
       "2      Southwest Contractors Ltd       1995  Construction   Residential   \n",
       "3           Oakland Construction       1980  Construction    Commercial   \n",
       "4               HG construction        1990  Construction      High-end   \n",
       "\n",
       "  LOCATION MARKET PRESENCE                                   WEBSITE  \\\n",
       "0       UK        Regional            https://www.johnperkins.co.uk/   \n",
       "1       UK   International      https://uk.vinci-construction.com/     \n",
       "2       UK           Local  https://www.swcontractorsbristol.co.uk/    \n",
       "3       UK        Regional  https://www.oaklandconstruction.co.uk/     \n",
       "4       UK        National         https://www.hgconstruction.co.uk/   \n",
       "\n",
       "   INFRASTRUCTURE  RESIDENDIAL  AUTOMOTIVE  EDU/Cultural  COMMERCIAL CATEGORY  \\\n",
       "0               0            1           0             0           1  Builder   \n",
       "1               1            0           0             0           1  Builder   \n",
       "2               0            1           0             0           0  Builder   \n",
       "3               0            0           0             0           1  Builder   \n",
       "4               0            1           0             0           1  Builder   \n",
       "\n",
       "                    PARTNERSHIPS         SEGMENT  \n",
       "0  Construction & Infrastructure  Office Windows  \n",
       "1  Construction & Infrastructure   Glass Facades  \n",
       "2  Construction & Infrastructure  Office Windows  \n",
       "3  Construction & Infrastructure   Glass Facades  \n",
       "4  Construction & Infrastructure  Office Windows  "
      ]
     },
     "execution_count": 3,
     "metadata": {},
     "output_type": "execute_result"
    }
   ],
   "source": [
    "data.head()"
   ]
  },
  {
   "cell_type": "code",
   "execution_count": 4,
   "id": "dabc5865",
   "metadata": {},
   "outputs": [
    {
     "data": {
      "text/plain": [
       "(32, 15)"
      ]
     },
     "execution_count": 4,
     "metadata": {},
     "output_type": "execute_result"
    }
   ],
   "source": [
    "data.shape"
   ]
  },
  {
   "cell_type": "markdown",
   "id": "65f09e6c",
   "metadata": {},
   "source": [
    "## Data Cleaning "
   ]
  },
  {
   "cell_type": "code",
   "execution_count": 5,
   "id": "93977cc9",
   "metadata": {},
   "outputs": [
    {
     "data": {
      "text/plain": [
       "COMPANY NAME       0\n",
       "EST. YEAR          0\n",
       "INDUSTRY           0\n",
       "CORE SERVICES      0\n",
       "LOCATION           0\n",
       "MARKET PRESENCE    0\n",
       "WEBSITE            0\n",
       "INFRASTRUCTURE     0\n",
       "RESIDENDIAL        0\n",
       "AUTOMOTIVE         0\n",
       "EDU/Cultural       0\n",
       "COMMERCIAL         0\n",
       "CATEGORY           0\n",
       "PARTNERSHIPS       0\n",
       "SEGMENT            0\n",
       "dtype: int64"
      ]
     },
     "execution_count": 5,
     "metadata": {},
     "output_type": "execute_result"
    }
   ],
   "source": [
    "data.isnull().sum()"
   ]
  },
  {
   "cell_type": "code",
   "execution_count": 6,
   "id": "d0b2b308",
   "metadata": {},
   "outputs": [
    {
     "data": {
      "text/plain": [
       "COMPANY NAME       object\n",
       "EST. YEAR           int64\n",
       "INDUSTRY           object\n",
       "CORE SERVICES      object\n",
       "LOCATION           object\n",
       "MARKET PRESENCE    object\n",
       "WEBSITE            object\n",
       "INFRASTRUCTURE      int64\n",
       "RESIDENDIAL         int64\n",
       "AUTOMOTIVE          int64\n",
       "EDU/Cultural        int64\n",
       "COMMERCIAL          int64\n",
       "CATEGORY           object\n",
       "PARTNERSHIPS       object\n",
       "SEGMENT            object\n",
       "dtype: object"
      ]
     },
     "execution_count": 6,
     "metadata": {},
     "output_type": "execute_result"
    }
   ],
   "source": [
    "data.dtypes"
   ]
  },
  {
   "cell_type": "markdown",
   "id": "c2434c26",
   "metadata": {},
   "source": [
    "## Dropping unwanted columns "
   ]
  },
  {
   "cell_type": "code",
   "execution_count": 7,
   "id": "1c0388f2",
   "metadata": {},
   "outputs": [],
   "source": [
    "data = data.drop('WEBSITE', axis=1)"
   ]
  },
  {
   "cell_type": "code",
   "execution_count": null,
   "id": "2de71bc7",
   "metadata": {},
   "outputs": [],
   "source": [
    "#data.head()"
   ]
  },
  {
   "cell_type": "markdown",
   "id": "7cb0a2bd",
   "metadata": {},
   "source": [
    "## EDA "
   ]
  },
  {
   "cell_type": "code",
   "execution_count": 8,
   "id": "e0580a1c",
   "metadata": {},
   "outputs": [
    {
     "name": "stdout",
     "output_type": "stream",
     "text": [
      "         EST. YEAR  INFRASTRUCTURE  RESIDENDIAL  AUTOMOTIVE  EDU/Cultural  \\\n",
      "count    32.000000       32.000000    32.000000   32.000000     32.000000   \n",
      "mean   1961.125000        0.218750     0.500000    0.218750      0.156250   \n",
      "std      72.024078        0.420013     0.508001    0.420013      0.368902   \n",
      "min    1665.000000        0.000000     0.000000    0.000000      0.000000   \n",
      "25%    1952.000000        0.000000     0.000000    0.000000      0.000000   \n",
      "50%    1988.500000        0.000000     0.500000    0.000000      0.000000   \n",
      "75%    2000.000000        0.000000     1.000000    0.000000      0.000000   \n",
      "max    2015.000000        1.000000     1.000000    1.000000      1.000000   \n",
      "\n",
      "       COMMERCIAL  \n",
      "count   32.000000  \n",
      "mean     0.781250  \n",
      "std      0.420013  \n",
      "min      0.000000  \n",
      "25%      1.000000  \n",
      "50%      1.000000  \n",
      "75%      1.000000  \n",
      "max      1.000000  \n"
     ]
    }
   ],
   "source": [
    "print(data.describe())"
   ]
  },
  {
   "cell_type": "code",
   "execution_count": 9,
   "id": "d1629097",
   "metadata": {},
   "outputs": [
    {
     "name": "stdout",
     "output_type": "stream",
     "text": [
      "MARKET PRESENCE\n",
      "National         17\n",
      "International    12\n",
      "Regional          2\n",
      "Local             1\n",
      "Name: count, dtype: int64\n"
     ]
    }
   ],
   "source": [
    "print(data['MARKET PRESENCE'].value_counts()) ## TOTAL COUNT"
   ]
  },
  {
   "cell_type": "code",
   "execution_count": 10,
   "id": "db92337a",
   "metadata": {},
   "outputs": [
    {
     "name": "stdout",
     "output_type": "stream",
     "text": [
      "INFRASTRUCTURE     7\n",
      "RESIDENDIAL       16\n",
      "EDU/Cultural       5\n",
      "COMMERCIAL        25\n",
      "dtype: int64\n"
     ]
    }
   ],
   "source": [
    "print(data[['INFRASTRUCTURE', 'RESIDENDIAL', 'EDU/Cultural','COMMERCIAL']].sum())"
   ]
  },
  {
   "cell_type": "markdown",
   "id": "8cfc22ed",
   "metadata": {},
   "source": [
    "## Visualisations for better understandings"
   ]
  },
  {
   "cell_type": "code",
   "execution_count": null,
   "id": "1cd855f8",
   "metadata": {},
   "outputs": [],
   "source": [
    "import matplotlib.pyplot as plt\n",
    "import seaborn as sns\n",
    "\n",
    "# Setting the aesthetic style of the plots\n",
    "sns.set_style(\"whitegrid\")\n",
    "\n",
    "## Distribution of Companies by Establishment Year\n",
    "plt.figure(figsize=(8,3))\n",
    "sns.histplot(data['EST. YEAR'], bins=30, kde=True, color=\"red\")\n",
    "plt.title('Distribution of Companies by Establishment Year')\n",
    "plt.xlabel('Establishment Year')\n",
    "plt.ylabel('Number of Companies')\n",
    "plt.show()                 ## peaks indicating specific years when more companies were founded"
   ]
  },
  {
   "cell_type": "code",
   "execution_count": null,
   "id": "3bd9a3c5",
   "metadata": {},
   "outputs": [],
   "source": [
    "# Filter the data for relevant columns\n",
    "industry_data = data[['COMPANY NAME', 'COMMERCIAL', 'RESIDENDIAL', 'AUTOMOTIVE', 'EDU/Cultural']]\n",
    "\n",
    "# Set the 'COMPANY NAME' column as the index\n",
    "industry_data.set_index('COMPANY NAME', inplace=True)\n",
    "\n",
    "# Calculate the count of companies in each industry area\n",
    "industry_counts = industry_data.sum()\n",
    "\n",
    "# Plotting\n",
    "plt.figure(figsize=(10, 6))\n",
    "sns.barplot(x=industry_counts.index, y=industry_counts.values, palette=\"muted\")\n",
    "plt.title('Distribution of Companies Across Industry Areas')\n",
    "plt.xlabel('Industry Areas')\n",
    "plt.ylabel('Number of Companies')\n",
    "plt.xticks(rotation=90, ha='right')\n",
    "plt.tight_layout()\n",
    "plt.show()"
   ]
  },
  {
   "cell_type": "code",
   "execution_count": null,
   "id": "0f80e8fd",
   "metadata": {},
   "outputs": [],
   "source": [
    "# Set the style of the heatmap\n",
    "sns.set(style=\"whitegrid\")\n",
    "\n",
    "# Plotting the heatmap\n",
    "plt.figure(figsize=(7, 6))\n",
    "sns.heatmap(industry_data, cmap=\"YlGnBu\", annot=True, fmt=\"d\")\n",
    "plt.title('Unique Count of Industry Data Across Companies')\n",
    "plt.xlabel('Industry Areas')\n",
    "plt.ylabel('Company')\n",
    "plt.xticks(rotation=90, ha='right')\n",
    "plt.tight_layout()\n",
    "plt.show()"
   ]
  },
  {
   "cell_type": "code",
   "execution_count": null,
   "id": "856d19ed",
   "metadata": {},
   "outputs": [],
   "source": [
    "# Reset the index to convert the 'COMPANY NAME' column to a regular column\n",
    "industry_data.reset_index(inplace=True)\n",
    "\n",
    "# Rename the column to ensure it matches exactly\n",
    "industry_data.rename(columns={'COMPANY NAME': 'Company'}, inplace=True)\n",
    "\n",
    "# Melt the dataframe to convert it to long format\n",
    "melted_data = pd.melt(industry_data, id_vars='Company', var_name='Industry Area', value_name='Involvement')\n",
    "\n",
    "# Plotting the pairplot\n",
    "sns.pairplot(melted_data, hue='Industry Area', palette='husl', height=4)\n",
    "plt.suptitle('Pairplot of Companies and Their Industry Areas', y=1.02)\n",
    "plt.show()\n"
   ]
  },
  {
   "cell_type": "markdown",
   "id": "e08cdd1f",
   "metadata": {},
   "source": [
    "## Market Segmentation:\n",
    "- To analyze and segment Albotherm's market potential in commercial buildings, we'll consider factors such as industry trends,  \n",
    "  competitor landscape, and potential customer needs within this sector. This analysis can help identify strategic opportunities \n",
    "  for Albotherm and how they can differentiate their offerings."
   ]
  },
  {
   "cell_type": "code",
   "execution_count": null,
   "id": "b464d956",
   "metadata": {},
   "outputs": [],
   "source": [
    "## Market Presence Analysis\n",
    "plt.figure(figsize=(6, 3))\n",
    "sns.countplot(data=data, x='MARKET PRESENCE', palette=\"husl\")\n",
    "plt.title('Market Presence of Companies')\n",
    "plt.xlabel('Markets')\n",
    "plt.ylabel('Count of companies')\n",
    "plt.show()"
   ]
  },
  {
   "cell_type": "code",
   "execution_count": null,
   "id": "28bc5366",
   "metadata": {},
   "outputs": [],
   "source": [
    "## Core Services Analysis\n",
    "plt.figure(figsize=(12, 6))\n",
    "sns.countplot(data=data, y='CORE SERVICES', palette=\"Set3\")\n",
    "plt.title('Core Services Offered by Companies')\n",
    "plt.xlabel('Count')\n",
    "plt.ylabel('Core Services')\n",
    "plt.show()"
   ]
  },
  {
   "cell_type": "code",
   "execution_count": null,
   "id": "3f1b707b",
   "metadata": {},
   "outputs": [],
   "source": [
    "## Sector Engagement\n",
    "sectors = ['INFRASTRUCTURE', 'RESIDENDIAL', 'AUTOMOTIVE', 'EDU/Cultural', 'COMMERCIAL']\n",
    "sector_engagement = data[sectors].sum().sort_values()\n",
    "\n",
    "plt.figure(figsize=(4, 2))\n",
    "sector_engagement.plot(kind='barh', color=sns.color_palette(\"coolwarm\", len(sectors)))\n",
    "plt.title('Number of Companies Engaged in Each Sector')\n",
    "plt.xlabel('Number of Companies')\n",
    "plt.ylabel('Sector')\n",
    "plt.show()"
   ]
  },
  {
   "cell_type": "code",
   "execution_count": null,
   "id": "780756ba",
   "metadata": {},
   "outputs": [],
   "source": [
    "# Filter for companies involved in the 'COMMERCIAL' sector\n",
    "commercial_sector_companies = data[data['COMMERCIAL'] == 1]\n",
    "\n",
    "# Further filter these companies based on market presence to prioritize national and international companies\n",
    "priority_commercial_companies = commercial_sector_companies[commercial_sector_companies['MARKET PRESENCE'].isin(['National', 'International'])]\n",
    "\n",
    "# Selecting relevant columns to focus on potential leads\n",
    "priority_leads = priority_commercial_companies[['COMPANY NAME', 'EST. YEAR', 'MARKET PRESENCE', 'LOCATION', 'CORE SERVICES']]\n",
    "\n",
    "# Sorting these companies by establishment year to mix both well-established and newer companies that might be innovative\n",
    "sorted_priority_leads = priority_leads.sort_values(by='EST. YEAR')\n",
    "\n",
    "sorted_priority_leads\n"
   ]
  },
  {
   "cell_type": "code",
   "execution_count": null,
   "id": "24c4140a",
   "metadata": {},
   "outputs": [],
   "source": [
    "# Plotting the number of commercial sector companies by their market presence and establishment year\n",
    "\n",
    "# Preparing the data for plotting\n",
    "commercial_by_presence = priority_commercial_companies.groupby(['MARKET PRESENCE', 'EST. YEAR']).size().reset_index(name='Count')\n",
    "\n",
    "# Plotting\n",
    "plt.figure(figsize=(6,4))\n",
    "sns.scatterplot(data=commercial_by_presence, x='EST. YEAR', y='Count', hue='MARKET PRESENCE', style='MARKET PRESENCE', s=75)\n",
    "plt.title('Commercial Sector Companies by Market Presence and Establishment Year')\n",
    "plt.xlabel('Establishment Year')\n",
    "plt.ylabel('Number of Companies')\n",
    "plt.legend(title='Market Presence')\n",
    "plt.grid(True)\n",
    "plt.show()\n"
   ]
  },
  {
   "cell_type": "code",
   "execution_count": null,
   "id": "a6654e65",
   "metadata": {},
   "outputs": [],
   "source": [
    "# Count the frequency of partnerships\n",
    "partnerships_counts = data['PARTNERSHIPS'].value_counts()\n",
    "\n",
    "# Plotting the bar plot\n",
    "plt.figure(figsize=(6,4))\n",
    "partnerships_counts.plot(kind='bar', color='lightcoral')\n",
    "plt.title('Frequency of Partnerships by Company')\n",
    "plt.xlabel('Partnerships')\n",
    "plt.ylabel('Frequency')\n",
    "plt.xticks(rotation=45, ha='right')\n",
    "\n",
    "# Add company names as annotations\n",
    "for i, v in enumerate(partnerships_counts):\n",
    "    plt.text(i, v + 1, str(v), ha='center', va='bottom', color='black')\n",
    "\n",
    "plt.tight_layout()\n",
    "plt.show()\n"
   ]
  },
  {
   "cell_type": "code",
   "execution_count": null,
   "id": "ec841a97",
   "metadata": {},
   "outputs": [],
   "source": [
    "# Importing necessary libraries\n",
    "import matplotlib.pyplot as plt\n",
    "import seaborn as sns\n",
    "\n",
    "# Selecting relevant columns for plotting\n",
    "company_industry = data[['COMPANY NAME', 'COMMERCIAL', 'RESIDENDIAL', 'AUTOMOTIVE', 'EDU/Cultural']]\n",
    "\n",
    "# Merging the industry columns into one 'Industry' column\n",
    "company_industry['Industry'] = company_industry[['COMMERCIAL', 'RESIDENDIAL', 'AUTOMOTIVE', 'EDU/Cultural']].idxmax(axis=1)\n",
    "\n",
    "# Plotting\n",
    "plt.figure(figsize=(12, 8))\n",
    "sns.countplot(data=company_industry, y='COMPANY NAME', hue='Industry')\n",
    "plt.title('Company Industry Areas')\n",
    "plt.xlabel('Count')\n",
    "plt.ylabel('Company Name')\n",
    "plt.legend(title='Industry', loc='lower right')\n",
    "plt.show()\n"
   ]
  },
  {
   "cell_type": "code",
   "execution_count": null,
   "id": "14989be5",
   "metadata": {},
   "outputs": [],
   "source": [
    "# Importing necessary libraries\n",
    "import seaborn as sns\n",
    "import matplotlib.pyplot as plt\n",
    "\n",
    "# Selecting numerical columns for pairplot\n",
    "numerical_data = data[['EST. YEAR', 'INFRASTRUCTURE', 'RESIDENDIAL', 'AUTOMOTIVE', 'EDU/Cultural', 'COMMERCIAL']]\n",
    "\n",
    "# Creating pairplot\n",
    "sns.pairplot(numerical_data)\n",
    "plt.show()\n"
   ]
  },
  {
   "cell_type": "code",
   "execution_count": null,
   "id": "45bf508e",
   "metadata": {},
   "outputs": [],
   "source": []
  },
  {
   "cell_type": "code",
   "execution_count": null,
   "id": "dbdebb7c",
   "metadata": {},
   "outputs": [],
   "source": [
    "data"
   ]
  },
  {
   "cell_type": "code",
   "execution_count": null,
   "id": "e579c58d",
   "metadata": {},
   "outputs": [],
   "source": []
  }
 ],
 "metadata": {
  "kernelspec": {
   "display_name": "Python 3 (ipykernel)",
   "language": "python",
   "name": "python3"
  },
  "language_info": {
   "codemirror_mode": {
    "name": "ipython",
    "version": 3
   },
   "file_extension": ".py",
   "mimetype": "text/x-python",
   "name": "python",
   "nbconvert_exporter": "python",
   "pygments_lexer": "ipython3",
   "version": "3.11.5"
  }
 },
 "nbformat": 4,
 "nbformat_minor": 5
}
